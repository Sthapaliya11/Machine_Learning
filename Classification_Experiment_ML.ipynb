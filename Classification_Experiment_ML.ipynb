{
 "cells": [
  {
   "cell_type": "markdown",
   "metadata": {},
   "source": [
    "# Glass Classification \n",
    "## Suman Thapaliya\n"
   ]
  },
  {
   "cell_type": "markdown",
   "metadata": {},
   "source": [
    "## Import necessary libraries\n"
   ]
  },
  {
   "cell_type": "code",
   "execution_count": 1,
   "metadata": {},
   "outputs": [],
   "source": [
    "import numpy as np\n",
    "import pandas as pd\n",
    "import seaborn as sns\n",
    "import matplotlib.pyplot as plt\n",
    "from sklearn.metrics import make_scorer, accuracy_score, precision_score, recall_score, f1_score\n",
    "from sklearn.dummy import DummyClassifier\n",
    "from sklearn.neighbors import KNeighborsClassifier\n",
    "from sklearn.tree import DecisionTreeClassifier\n",
    "from sklearn.model_selection import train_test_split, GridSearchCV, cross_val_score,learning_curve,StratifiedKFold\n",
    "from sklearn.metrics import classification_report, confusion_matrix\n",
    "from sklearn.inspection import permutation_importance\n",
    "import time"
   ]
  },
  {
   "cell_type": "markdown",
   "metadata": {},
   "source": [
    "## Load dataset from UCI repository\n",
    "Load the dataset directly from uci repository in pandas dataframe and rename the dataset accordingly. Show the first 5 rows of dataset."
   ]
  },
  {
   "cell_type": "code",
   "execution_count": 2,
   "metadata": {},
   "outputs": [
    {
     "data": {
      "text/html": [
       "<div>\n",
       "<style scoped>\n",
       "    .dataframe tbody tr th:only-of-type {\n",
       "        vertical-align: middle;\n",
       "    }\n",
       "\n",
       "    .dataframe tbody tr th {\n",
       "        vertical-align: top;\n",
       "    }\n",
       "\n",
       "    .dataframe thead th {\n",
       "        text-align: right;\n",
       "    }\n",
       "</style>\n",
       "<table border=\"1\" class=\"dataframe\">\n",
       "  <thead>\n",
       "    <tr style=\"text-align: right;\">\n",
       "      <th></th>\n",
       "      <th>Id</th>\n",
       "      <th>RI</th>\n",
       "      <th>Na</th>\n",
       "      <th>Mg</th>\n",
       "      <th>Al</th>\n",
       "      <th>Si</th>\n",
       "      <th>K</th>\n",
       "      <th>Ca</th>\n",
       "      <th>Ba</th>\n",
       "      <th>Fe</th>\n",
       "      <th>Type</th>\n",
       "    </tr>\n",
       "  </thead>\n",
       "  <tbody>\n",
       "    <tr>\n",
       "      <th>0</th>\n",
       "      <td>1</td>\n",
       "      <td>1.52101</td>\n",
       "      <td>13.64</td>\n",
       "      <td>4.49</td>\n",
       "      <td>1.10</td>\n",
       "      <td>71.78</td>\n",
       "      <td>0.06</td>\n",
       "      <td>8.75</td>\n",
       "      <td>0.0</td>\n",
       "      <td>0.0</td>\n",
       "      <td>1</td>\n",
       "    </tr>\n",
       "    <tr>\n",
       "      <th>1</th>\n",
       "      <td>2</td>\n",
       "      <td>1.51761</td>\n",
       "      <td>13.89</td>\n",
       "      <td>3.60</td>\n",
       "      <td>1.36</td>\n",
       "      <td>72.73</td>\n",
       "      <td>0.48</td>\n",
       "      <td>7.83</td>\n",
       "      <td>0.0</td>\n",
       "      <td>0.0</td>\n",
       "      <td>1</td>\n",
       "    </tr>\n",
       "    <tr>\n",
       "      <th>2</th>\n",
       "      <td>3</td>\n",
       "      <td>1.51618</td>\n",
       "      <td>13.53</td>\n",
       "      <td>3.55</td>\n",
       "      <td>1.54</td>\n",
       "      <td>72.99</td>\n",
       "      <td>0.39</td>\n",
       "      <td>7.78</td>\n",
       "      <td>0.0</td>\n",
       "      <td>0.0</td>\n",
       "      <td>1</td>\n",
       "    </tr>\n",
       "    <tr>\n",
       "      <th>3</th>\n",
       "      <td>4</td>\n",
       "      <td>1.51766</td>\n",
       "      <td>13.21</td>\n",
       "      <td>3.69</td>\n",
       "      <td>1.29</td>\n",
       "      <td>72.61</td>\n",
       "      <td>0.57</td>\n",
       "      <td>8.22</td>\n",
       "      <td>0.0</td>\n",
       "      <td>0.0</td>\n",
       "      <td>1</td>\n",
       "    </tr>\n",
       "    <tr>\n",
       "      <th>4</th>\n",
       "      <td>5</td>\n",
       "      <td>1.51742</td>\n",
       "      <td>13.27</td>\n",
       "      <td>3.62</td>\n",
       "      <td>1.24</td>\n",
       "      <td>73.08</td>\n",
       "      <td>0.55</td>\n",
       "      <td>8.07</td>\n",
       "      <td>0.0</td>\n",
       "      <td>0.0</td>\n",
       "      <td>1</td>\n",
       "    </tr>\n",
       "  </tbody>\n",
       "</table>\n",
       "</div>"
      ],
      "text/plain": [
       "   Id       RI     Na    Mg    Al     Si     K    Ca   Ba   Fe  Type\n",
       "0   1  1.52101  13.64  4.49  1.10  71.78  0.06  8.75  0.0  0.0     1\n",
       "1   2  1.51761  13.89  3.60  1.36  72.73  0.48  7.83  0.0  0.0     1\n",
       "2   3  1.51618  13.53  3.55  1.54  72.99  0.39  7.78  0.0  0.0     1\n",
       "3   4  1.51766  13.21  3.69  1.29  72.61  0.57  8.22  0.0  0.0     1\n",
       "4   5  1.51742  13.27  3.62  1.24  73.08  0.55  8.07  0.0  0.0     1"
      ]
     },
     "execution_count": 2,
     "metadata": {},
     "output_type": "execute_result"
    }
   ],
   "source": [
    "url = \"https://archive.ics.uci.edu/ml/machine-learning-databases/glass/glass.data\"\n",
    "column_names = ['Id', 'RI', 'Na', 'Mg', 'Al', 'Si', 'K', 'Ca', 'Ba', 'Fe', 'Type']\n",
    "glass_df = pd.read_csv(url, header=None, names=column_names)\n",
    "glass_df.head(5)"
   ]
  },
  {
   "cell_type": "markdown",
   "metadata": {},
   "source": [
    "# Dataset\n",
    "Glass dataset is a collection of different types of glasses. Glasses are composed of different chemical compositions like iron, silicon, sodium, calcilum and so on. Dataset contains  the record of 214 glasses which are basically divided into a six types of glasses. These six types are:\n",
    "## Glass types:\n",
    "1. building_windows_float_processed\n",
    "2. building_windows_non_float_processed\n",
    "3. vehicle_windows_float_processed\n",
    "5. containers\n",
    "6. tableware\n",
    "7. headlamps\n",
    "## Glass chemical composition: \n",
    "Each chemical component is one feature in our case. All the chemical composition are represented in weight percent in our dataset. For an instance: if the value of Na is 13.78, then that glass is made up off 13.78% of sodium. \n",
    "other than chemical composotion, the dataset contain one column named 'RI' i.e. refractive index and last column named 'Type' i.e. glass type. Refractive index means how much light bent when travelling from one medium to another.\n",
    "1. Na = Sodium\n",
    "2. Mg = Magnesium\n",
    "3. Al = Aluminum\n",
    "4. Si = Silicon\n",
    "5. k  = Potassium \n",
    "6. Ca = Calcium\n",
    "7. Ba = Barium\n",
    "8. Fe = Iron\n",
    "## Use case:\n",
    "One case is criminological investigation. Bases on the glass found on crime scene, it can be used as evidence if it is identified correctly.\n"
   ]
  },
  {
   "cell_type": "markdown",
   "metadata": {},
   "source": [
    "## Shape \n",
    "There are 214 instances of glass and has 11 features. In our case, features means chemical components, refractive index, and glass type."
   ]
  },
  {
   "cell_type": "code",
   "execution_count": 3,
   "metadata": {},
   "outputs": [
    {
     "data": {
      "text/plain": [
       "(214, 11)"
      ]
     },
     "execution_count": 3,
     "metadata": {},
     "output_type": "execute_result"
    }
   ],
   "source": [
    "glass_df.shape"
   ]
  },
  {
   "cell_type": "markdown",
   "metadata": {},
   "source": [
    "## Data Types\n",
    "All the data are either float or integer numerical number."
   ]
  },
  {
   "cell_type": "code",
   "execution_count": 4,
   "metadata": {},
   "outputs": [
    {
     "data": {
      "text/plain": [
       "Id        int64\n",
       "RI      float64\n",
       "Na      float64\n",
       "Mg      float64\n",
       "Al      float64\n",
       "Si      float64\n",
       "K       float64\n",
       "Ca      float64\n",
       "Ba      float64\n",
       "Fe      float64\n",
       "Type      int64\n",
       "dtype: object"
      ]
     },
     "execution_count": 4,
     "metadata": {},
     "output_type": "execute_result"
    }
   ],
   "source": [
    "glass_df.dtypes"
   ]
  },
  {
   "cell_type": "markdown",
   "metadata": {},
   "source": [
    "## Check missing values\n",
    "There are no missing values in our dataset."
   ]
  },
  {
   "cell_type": "code",
   "execution_count": 5,
   "metadata": {},
   "outputs": [
    {
     "data": {
      "text/plain": [
       "Id      0\n",
       "RI      0\n",
       "Na      0\n",
       "Mg      0\n",
       "Al      0\n",
       "Si      0\n",
       "K       0\n",
       "Ca      0\n",
       "Ba      0\n",
       "Fe      0\n",
       "Type    0\n",
       "dtype: int64"
      ]
     },
     "execution_count": 5,
     "metadata": {},
     "output_type": "execute_result"
    }
   ],
   "source": [
    "glass_df.isna().sum()"
   ]
  },
  {
   "cell_type": "markdown",
   "metadata": {},
   "source": [
    "## Dataset Description\n",
    "As we can verify that there are no missing values in all columns. All of them contains 214 instnaces. In this description, we can see that standard deviation of Magnisium is highest which is worth while noticing it."
   ]
  },
  {
   "cell_type": "code",
   "execution_count": 6,
   "metadata": {},
   "outputs": [
    {
     "data": {
      "text/html": [
       "<div>\n",
       "<style scoped>\n",
       "    .dataframe tbody tr th:only-of-type {\n",
       "        vertical-align: middle;\n",
       "    }\n",
       "\n",
       "    .dataframe tbody tr th {\n",
       "        vertical-align: top;\n",
       "    }\n",
       "\n",
       "    .dataframe thead th {\n",
       "        text-align: right;\n",
       "    }\n",
       "</style>\n",
       "<table border=\"1\" class=\"dataframe\">\n",
       "  <thead>\n",
       "    <tr style=\"text-align: right;\">\n",
       "      <th></th>\n",
       "      <th>Id</th>\n",
       "      <th>RI</th>\n",
       "      <th>Na</th>\n",
       "      <th>Mg</th>\n",
       "      <th>Al</th>\n",
       "      <th>Si</th>\n",
       "      <th>K</th>\n",
       "      <th>Ca</th>\n",
       "      <th>Ba</th>\n",
       "      <th>Fe</th>\n",
       "      <th>Type</th>\n",
       "    </tr>\n",
       "  </thead>\n",
       "  <tbody>\n",
       "    <tr>\n",
       "      <th>count</th>\n",
       "      <td>214.000000</td>\n",
       "      <td>214.000000</td>\n",
       "      <td>214.000000</td>\n",
       "      <td>214.000000</td>\n",
       "      <td>214.000000</td>\n",
       "      <td>214.000000</td>\n",
       "      <td>214.000000</td>\n",
       "      <td>214.000000</td>\n",
       "      <td>214.000000</td>\n",
       "      <td>214.000000</td>\n",
       "      <td>214.000000</td>\n",
       "    </tr>\n",
       "    <tr>\n",
       "      <th>mean</th>\n",
       "      <td>107.500000</td>\n",
       "      <td>1.518365</td>\n",
       "      <td>13.407850</td>\n",
       "      <td>2.684533</td>\n",
       "      <td>1.444907</td>\n",
       "      <td>72.650935</td>\n",
       "      <td>0.497056</td>\n",
       "      <td>8.956963</td>\n",
       "      <td>0.175047</td>\n",
       "      <td>0.057009</td>\n",
       "      <td>2.780374</td>\n",
       "    </tr>\n",
       "    <tr>\n",
       "      <th>std</th>\n",
       "      <td>61.920648</td>\n",
       "      <td>0.003037</td>\n",
       "      <td>0.816604</td>\n",
       "      <td>1.442408</td>\n",
       "      <td>0.499270</td>\n",
       "      <td>0.774546</td>\n",
       "      <td>0.652192</td>\n",
       "      <td>1.423153</td>\n",
       "      <td>0.497219</td>\n",
       "      <td>0.097439</td>\n",
       "      <td>2.103739</td>\n",
       "    </tr>\n",
       "    <tr>\n",
       "      <th>min</th>\n",
       "      <td>1.000000</td>\n",
       "      <td>1.511150</td>\n",
       "      <td>10.730000</td>\n",
       "      <td>0.000000</td>\n",
       "      <td>0.290000</td>\n",
       "      <td>69.810000</td>\n",
       "      <td>0.000000</td>\n",
       "      <td>5.430000</td>\n",
       "      <td>0.000000</td>\n",
       "      <td>0.000000</td>\n",
       "      <td>1.000000</td>\n",
       "    </tr>\n",
       "    <tr>\n",
       "      <th>25%</th>\n",
       "      <td>54.250000</td>\n",
       "      <td>1.516522</td>\n",
       "      <td>12.907500</td>\n",
       "      <td>2.115000</td>\n",
       "      <td>1.190000</td>\n",
       "      <td>72.280000</td>\n",
       "      <td>0.122500</td>\n",
       "      <td>8.240000</td>\n",
       "      <td>0.000000</td>\n",
       "      <td>0.000000</td>\n",
       "      <td>1.000000</td>\n",
       "    </tr>\n",
       "    <tr>\n",
       "      <th>50%</th>\n",
       "      <td>107.500000</td>\n",
       "      <td>1.517680</td>\n",
       "      <td>13.300000</td>\n",
       "      <td>3.480000</td>\n",
       "      <td>1.360000</td>\n",
       "      <td>72.790000</td>\n",
       "      <td>0.555000</td>\n",
       "      <td>8.600000</td>\n",
       "      <td>0.000000</td>\n",
       "      <td>0.000000</td>\n",
       "      <td>2.000000</td>\n",
       "    </tr>\n",
       "    <tr>\n",
       "      <th>75%</th>\n",
       "      <td>160.750000</td>\n",
       "      <td>1.519157</td>\n",
       "      <td>13.825000</td>\n",
       "      <td>3.600000</td>\n",
       "      <td>1.630000</td>\n",
       "      <td>73.087500</td>\n",
       "      <td>0.610000</td>\n",
       "      <td>9.172500</td>\n",
       "      <td>0.000000</td>\n",
       "      <td>0.100000</td>\n",
       "      <td>3.000000</td>\n",
       "    </tr>\n",
       "    <tr>\n",
       "      <th>max</th>\n",
       "      <td>214.000000</td>\n",
       "      <td>1.533930</td>\n",
       "      <td>17.380000</td>\n",
       "      <td>4.490000</td>\n",
       "      <td>3.500000</td>\n",
       "      <td>75.410000</td>\n",
       "      <td>6.210000</td>\n",
       "      <td>16.190000</td>\n",
       "      <td>3.150000</td>\n",
       "      <td>0.510000</td>\n",
       "      <td>7.000000</td>\n",
       "    </tr>\n",
       "  </tbody>\n",
       "</table>\n",
       "</div>"
      ],
      "text/plain": [
       "               Id          RI          Na          Mg          Al          Si  \\\n",
       "count  214.000000  214.000000  214.000000  214.000000  214.000000  214.000000   \n",
       "mean   107.500000    1.518365   13.407850    2.684533    1.444907   72.650935   \n",
       "std     61.920648    0.003037    0.816604    1.442408    0.499270    0.774546   \n",
       "min      1.000000    1.511150   10.730000    0.000000    0.290000   69.810000   \n",
       "25%     54.250000    1.516522   12.907500    2.115000    1.190000   72.280000   \n",
       "50%    107.500000    1.517680   13.300000    3.480000    1.360000   72.790000   \n",
       "75%    160.750000    1.519157   13.825000    3.600000    1.630000   73.087500   \n",
       "max    214.000000    1.533930   17.380000    4.490000    3.500000   75.410000   \n",
       "\n",
       "                K          Ca          Ba          Fe        Type  \n",
       "count  214.000000  214.000000  214.000000  214.000000  214.000000  \n",
       "mean     0.497056    8.956963    0.175047    0.057009    2.780374  \n",
       "std      0.652192    1.423153    0.497219    0.097439    2.103739  \n",
       "min      0.000000    5.430000    0.000000    0.000000    1.000000  \n",
       "25%      0.122500    8.240000    0.000000    0.000000    1.000000  \n",
       "50%      0.555000    8.600000    0.000000    0.000000    2.000000  \n",
       "75%      0.610000    9.172500    0.000000    0.100000    3.000000  \n",
       "max      6.210000   16.190000    3.150000    0.510000    7.000000  "
      ]
     },
     "execution_count": 6,
     "metadata": {},
     "output_type": "execute_result"
    }
   ],
   "source": [
    "glass_df.describe()"
   ]
  },
  {
   "cell_type": "markdown",
   "metadata": {},
   "source": [
    "## Glass Types Verification\n",
    "We want to see whether there are exactly six unique values as we said that there are 6 types of glasses in our dataset. Based on the result, we verify that there are six types namely '1','2','3','5','6','7'."
   ]
  },
  {
   "cell_type": "code",
   "execution_count": 7,
   "metadata": {},
   "outputs": [
    {
     "data": {
      "text/plain": [
       "array([1, 2, 3, 5, 6, 7], dtype=int64)"
      ]
     },
     "execution_count": 7,
     "metadata": {},
     "output_type": "execute_result"
    }
   ],
   "source": [
    "glass_df_unique_type = glass_df['Type'].unique()\n",
    "glass_df_unique_type"
   ]
  },
  {
   "cell_type": "markdown",
   "metadata": {},
   "source": [
    "## Drop unnecessary column\n",
    "ID column doesn't help to classify so we drop it."
   ]
  },
  {
   "cell_type": "code",
   "execution_count": 8,
   "metadata": {},
   "outputs": [],
   "source": [
    "glass_df.drop('Id', axis=1, inplace=True)"
   ]
  },
  {
   "cell_type": "markdown",
   "metadata": {},
   "source": [
    "## Seperating target column and features columns\n",
    "In our case, Type column will be target column as it has a information of glass types. other than that, all the columns will be our features columns i.e. chemical composition and refractive index."
   ]
  },
  {
   "cell_type": "code",
   "execution_count": 9,
   "metadata": {},
   "outputs": [],
   "source": [
    "X = glass_df.drop('Type', axis=1)\n",
    "y = glass_df['Type']"
   ]
  },
  {
   "cell_type": "markdown",
   "metadata": {},
   "source": [
    "## Create a single train-test split\n",
    "For preliminary experiment, we created single train-test split where text size is 40% of whole dataset and shuffling is set to true. It is important to set shuffle = True as it helps to reduce overfitting and have randomization."
   ]
  },
  {
   "cell_type": "code",
   "execution_count": 10,
   "metadata": {},
   "outputs": [],
   "source": [
    "X_train, X_test, y_train, y_test = train_test_split(X, y, test_size=0.4, shuffle=True, stratify=y, random_state=1)"
   ]
  },
  {
   "cell_type": "markdown",
   "metadata": {},
   "source": [
    "## Default Simple Baseline\n",
    "Starting a simple baseline model named 'most_frequent'. This baseline model works as simple as by predicting the most frequent class in the training data for every input sample. It will serve as benchmark model to compared against two sophisticated ML models. From result, we can see that the accuracy score of baseline model is 35% i.e. this model predicted 35 times corretly in 100 run.\n",
    "\n"
   ]
  },
  {
   "cell_type": "code",
   "execution_count": 11,
   "metadata": {},
   "outputs": [
    {
     "name": "stdout",
     "output_type": "stream",
     "text": [
      "Baseline Model Accuracy: 0.35\n"
     ]
    }
   ],
   "source": [
    "baseline_model = DummyClassifier(strategy='most_frequent')\n",
    "\n",
    "baseline_model.fit(X_train, y_train)\n",
    "\n",
    "y_pred_baseline = baseline_model.predict(X_test)\n",
    "baseline_accuracy = accuracy_score(y_test, y_pred_baseline)\n",
    "\n",
    "print(f\"Baseline Model Accuracy: {baseline_accuracy:.2f}\")"
   ]
  },
  {
   "cell_type": "markdown",
   "metadata": {},
   "source": [
    "## Default k-Nearest Neighbors classifier\n",
    "Running the k-nearest Neigbors classifier in default setting, we can see that it has the accuracy score of 0.7 i.e predicted 7 times correctly in 10 times. It is surely above the accuracy score of baseline model which had an accuray of 35%."
   ]
  },
  {
   "cell_type": "code",
   "execution_count": 12,
   "metadata": {},
   "outputs": [
    {
     "name": "stdout",
     "output_type": "stream",
     "text": [
      "k-NN Model Accuracy in default setting: 0.70\n"
     ]
    }
   ],
   "source": [
    "knn = KNeighborsClassifier()\n",
    "\n",
    "knn.fit(X_train, y_train)\n",
    "\n",
    "y_pred_knn = knn.predict(X_test)\n",
    "knn_accuracy = accuracy_score(y_test, y_pred_knn)\n",
    "\n",
    "print(f\"k-NN Model Accuracy in default setting: {knn_accuracy:.2f}\")"
   ]
  },
  {
   "cell_type": "markdown",
   "metadata": {},
   "source": [
    "## Default  Decision Tree classifier\n",
    "Similarly, Running the decision tree classifier in default setting, we can see that it has the accuracy score of 0.79 i.e. predicted 79 times correctly in 100 times. It is surely above the accuracy score of baseline model  as well as K-Nearest Neighbors classifier which had an accuray of 35% adn 70% respectively."
   ]
  },
  {
   "cell_type": "code",
   "execution_count": 13,
   "metadata": {},
   "outputs": [
    {
     "name": "stdout",
     "output_type": "stream",
     "text": [
      "Decision Tree Model Accuracy in default setting: 0.73\n"
     ]
    }
   ],
   "source": [
    "tree = DecisionTreeClassifier()\n",
    "\n",
    "tree.fit(X_train, y_train)\n",
    "\n",
    "y_pred_tree = tree.predict(X_test)\n",
    "tree_accuracy = accuracy_score(y_test, y_pred_tree)\n",
    "\n",
    "print(f\"Decision Tree Model Accuracy in default setting: {tree_accuracy:.2f}\")"
   ]
  },
  {
   "cell_type": "markdown",
   "metadata": {},
   "source": [
    "## Nested Cross Validation\n",
    "Defining the inner cross validation which will be used in GridSearch where as outer cross validation used to evaluate performance of the classifier."
   ]
  },
  {
   "cell_type": "code",
   "execution_count": 14,
   "metadata": {},
   "outputs": [],
   "source": [
    "inner_cv = StratifiedKFold(n_splits=5, shuffle=True, random_state=0)\n",
    "outer_cv = StratifiedKFold(n_splits=5, shuffle=True, random_state=1)"
   ]
  },
  {
   "cell_type": "markdown",
   "metadata": {},
   "source": [
    "## Function to evaluate classifier using outer cross validation on test and train data\n",
    "This function takes four parameter as input. first, which model you want to evaluate. Second, features columns. third, the target column and outer cross validation as last parameter. It starts the time to calculate the time it requires to complete the task. then, it perfome outer cross validation and store train scores and test scores and print the result as mean accuracy.\n"
   ]
  },
  {
   "cell_type": "code",
   "execution_count": 15,
   "metadata": {},
   "outputs": [],
   "source": [
    "def evaluate_classifier(model, X, y, outer_cv):\n",
    "    tic = time.time()\n",
    "    \n",
    "    train_scores = []\n",
    "    test_scores = []\n",
    "    \n",
    "    for train_idx, test_idx in outer_cv.split(X, y):\n",
    "        X_train, X_test = X.iloc[train_idx], X.iloc[test_idx]\n",
    "        y_train, y_test = y.iloc[train_idx], y.iloc[test_idx]\n",
    "        \n",
    "        model.fit(X_train, y_train)\n",
    "        \n",
    "        train_score = model.score(X_train, y_train)\n",
    "        train_scores.append(train_score)\n",
    "        \n",
    "        test_score = model.score(X_test, y_test)\n",
    "        test_scores.append(test_score)\n",
    "    \n",
    "    train_scores = np.array(train_scores)\n",
    "    test_scores = np.array(test_scores)\n",
    "    \n",
    "    print(f\"Mean training accuracy: {train_scores.mean():.3f} +/- {train_scores.std():.3f}\")\n",
    "    print(f\"Mean test accuracy: {test_scores.mean():.3f} +/- {test_scores.std():.3f}\")\n",
    "    print(f\"Time for Evaluation: {(time.time()-tic):.3f} seconds.\")"
   ]
  },
  {
   "cell_type": "markdown",
   "metadata": {},
   "source": [
    "## Nested_CV for Simple Baseline\n",
    "Using the evaluation classifier function, we can see that mean train and test accuracy has significatly low standard deviation and close to default simple baseline values."
   ]
  },
  {
   "cell_type": "code",
   "execution_count": 16,
   "metadata": {},
   "outputs": [
    {
     "name": "stdout",
     "output_type": "stream",
     "text": [
      "Baseline Model:\n",
      "Mean training accuracy: 0.355 +/- 0.002\n",
      "Mean test accuracy: 0.355 +/- 0.009\n",
      "Time for Evaluation: 0.040 seconds.\n"
     ]
    }
   ],
   "source": [
    "print(\"Baseline Model:\")\n",
    "baseline_accuracy = evaluate_classifier(baseline_model, X, y, outer_cv)"
   ]
  },
  {
   "cell_type": "markdown",
   "metadata": {},
   "source": [
    "## Nested_CV for K-Nearest Neighbors Classifier\n",
    "In k-Nearest Neighbors Classifier, we use search grid to find the best paramters. we found that metric as manhattan, weights as distance and number of neighbors is 3 yeilds the best accuracy. Moreover, with this best combination of paramters, we can see the increasement in training accuracy upto 5% as compare to default k-Nearest Neighbors Classifier considering SD. \n"
   ]
  },
  {
   "cell_type": "code",
   "execution_count": 17,
   "metadata": {},
   "outputs": [
    {
     "name": "stdout",
     "output_type": "stream",
     "text": [
      "\n",
      "Best Parameters for K-Nearest Neighbors: KNeighborsClassifier(metric='manhattan', n_neighbors=3, weights='distance')\n",
      "\n",
      "\n",
      "K-Nearest Neighbors Classifier:\n",
      "Mean training accuracy: 1.000 +/- 0.000\n",
      "Mean test accuracy: 0.682 +/- 0.070\n",
      "Time for Evaluation: 0.183 seconds.\n"
     ]
    }
   ],
   "source": [
    "knn_param_grid = {\n",
    "    'n_neighbors': [3, 5, 7, 9, 11, 15],         \n",
    "    'weights': ['uniform', 'distance'],              \n",
    "    'metric': ['euclidean', 'manhattan', 'minkowski']  \n",
    "}\n",
    "\n",
    "knn = KNeighborsClassifier()\n",
    "knn_grid_cv = GridSearchCV(estimator=knn, param_grid=knn_param_grid, cv=inner_cv, n_jobs=5, scoring='accuracy')\n",
    "\n",
    "knn_grid_cv.fit(X, y)\n",
    "knn_best_params = knn_grid_cv.best_estimator_\n",
    "\n",
    "print(f\"\\nBest Parameters for K-Nearest Neighbors: {knn_best_params}\\n\")\n",
    "\n",
    "print(\"\\nK-Nearest Neighbors Classifier:\")\n",
    "evaluate_classifier(knn_best_params, X, y, outer_cv)\n"
   ]
  },
  {
   "cell_type": "markdown",
   "metadata": {},
   "source": [
    "## Nested_CV for Decision Tree Classifier\n",
    "Similarly, we performe search grid for Decision tree as well. However, we didn't see any significate improvement even after using best parameters. The default decision tree and nested_cv one doesn't differ at the end. To be precise, default setting of decision tree is slightly better even after counting the positive standard deviation."
   ]
  },
  {
   "cell_type": "code",
   "execution_count": 18,
   "metadata": {},
   "outputs": [
    {
     "name": "stdout",
     "output_type": "stream",
     "text": [
      "\n",
      "Best Parameters for Decision Tree: DecisionTreeClassifier(ccp_alpha=0.01, criterion='entropy', max_depth=10,\n",
      "                       min_samples_split=8)\n",
      "\n",
      "\n",
      "Decision Tree Classifier:\n",
      "Mean training accuracy: 0.929 +/- 0.012\n",
      "Mean test accuracy: 0.710 +/- 0.033\n",
      "Time for Evaluation: 0.199 seconds.\n"
     ]
    }
   ],
   "source": [
    "dtc_param_grid = {\n",
    "    'criterion': ['gini', 'entropy'],\n",
    "    'max_depth': [None, 5, 10, 15, 20],\n",
    "    'min_samples_split': [2, 3, 4, 8, 16],\n",
    "    'min_samples_leaf': [1, 2, 3, 4],\n",
    "    'ccp_alpha': [0.0, 0.01, 0.05, 0.1]\n",
    "}\n",
    "\n",
    "dtc = DecisionTreeClassifier()\n",
    "\n",
    "dtc_grid_cv = GridSearchCV(estimator=dtc, param_grid=dtc_param_grid, cv=inner_cv, n_jobs=5, scoring='accuracy')\n",
    "dtc_grid_cv.fit(X, y)\n",
    "\n",
    "best_dtc = dtc_grid_cv.best_estimator_\n",
    "\n",
    "print(f\"\\nBest Parameters for Decision Tree: {dtc_grid_cv.best_estimator_}\\n\")\n",
    "\n",
    "print(\"\\nDecision Tree Classifier:\")\n",
    "evaluate_classifier(best_dtc, X, y, outer_cv)"
   ]
  },
  {
   "cell_type": "markdown",
   "metadata": {},
   "source": [
    "## Final Performance Table\n",
    "In this comprehensive table, we represent the performance of baseline model, K-Nearest Neighbors, and Decision tree classifier by showing their Mean and standard deviation of Accuracy, Precision, Recall, and F1 score. From the table below, we can clearly see that both Ml models performed better than baseline model in all performance category. For instance, mean precision score of baseline model is 0.059 where as 0.70 and 0.65 for decision tree and KNN respectively which is relately way better. However, both the ML models performed poor in our experiment. so, it is hard to choose one best ML moded. Nevertheless, If I had to pick one, them I would go for decision tree beacuse of slighlty better performance than KNN. Decision tree classifier has around 2% better mean accuracy than KNN and better score with small margin in other performance as well. Decision Tree classifier is relatively better so I am carry out further experiment on Decision Tree Classifier."
   ]
  },
  {
   "cell_type": "code",
   "execution_count": 19,
   "metadata": {},
   "outputs": [
    {
     "name": "stdout",
     "output_type": "stream",
     "text": [
      "Performance Comparison of all three model i.e. Baseline, kNN, and Decision Tree:\n",
      "\n",
      "           Model  Mean Accuracy  Accuracy Std  Mean Precision  Precision Std  \\\n",
      "0       Baseline       0.355150      0.009062        0.059192       0.001510   \n",
      "1  Decision Tree       0.705426      0.049028        0.700548       0.057492   \n",
      "2           k-NN       0.681949      0.069880        0.650915       0.076067   \n",
      "\n",
      "   Mean Recall  Recall Std  Mean F1 Score  F1 Score Std  \n",
      "0     0.166667    0.000000       0.087347      0.001633  \n",
      "1     0.704563    0.085103       0.681849      0.070637  \n",
      "2     0.620298    0.095894       0.624742      0.082939  \n"
     ]
    }
   ],
   "source": [
    "def custom_precision_score(y_true, y_pred):\n",
    "    return precision_score(y_true, y_pred, average='macro', zero_division=0)\n",
    "\n",
    "def custom_recall_score(y_true, y_pred):\n",
    "    return recall_score(y_true, y_pred, average='macro', zero_division=0)\n",
    "\n",
    "def custom_f1_score(y_true, y_pred):\n",
    "    return f1_score(y_true, y_pred, average='macro', zero_division=0)\n",
    "\n",
    "def evaluate_model(model, X, y, outer_cv):\n",
    "    accuracy = cross_val_score(model, X, y, cv=outer_cv, scoring='accuracy')\n",
    "    precision = cross_val_score(model, X, y, cv=outer_cv, scoring=make_scorer(custom_precision_score))\n",
    "    recall = cross_val_score(model, X, y, cv=outer_cv, scoring=make_scorer(custom_recall_score))\n",
    "    f1 = cross_val_score(model, X, y, cv=outer_cv, scoring=make_scorer(custom_f1_score))\n",
    "    return accuracy, precision, recall, f1\n",
    "\n",
    "baseline_metrics = evaluate_model(baseline_model, X, y, outer_cv)\n",
    "knn_metrics = evaluate_model(knn_best_params, X, y, outer_cv)\n",
    "tree_metrics = evaluate_model(best_dtc, X, y, outer_cv)\n",
    "\n",
    "results = pd.DataFrame({\n",
    "    'Model': ['Baseline', 'Decision Tree', 'k-NN'],\n",
    "    'Mean Accuracy': [np.mean(baseline_metrics[0]), np.mean(tree_metrics[0]), np.mean(knn_metrics[0])],\n",
    "    'Accuracy Std': [np.std(baseline_metrics[0]), np.std(tree_metrics[0]), np.std(knn_metrics[0])],\n",
    "    'Mean Precision': [np.mean(baseline_metrics[1]), np.mean(tree_metrics[1]), np.mean(knn_metrics[1])],\n",
    "    'Precision Std': [np.std(baseline_metrics[1]), np.std(tree_metrics[1]), np.std(knn_metrics[1])],\n",
    "    'Mean Recall': [np.mean(baseline_metrics[2]), np.mean(tree_metrics[2]), np.mean(knn_metrics[2])],\n",
    "    'Recall Std': [np.std(baseline_metrics[2]), np.std(tree_metrics[2]), np.std(knn_metrics[2])],\n",
    "    'Mean F1 Score': [np.mean(baseline_metrics[3]), np.mean(tree_metrics[3]), np.mean(knn_metrics[3])],\n",
    "    'F1 Score Std': [np.std(baseline_metrics[3]), np.std(tree_metrics[3]), np.std(knn_metrics[3])]\n",
    "})\n",
    "\n",
    "print(\"Performance Comparison of all three model i.e. Baseline, kNN, and Decision Tree:\\n\")\n",
    "print(results)\n"
   ]
  },
  {
   "cell_type": "markdown",
   "metadata": {},
   "source": [
    "## Analysis of Choosen Model (Confusion Matrix)\n",
    "Decision Tree Classifier had relatively better performance than KNN. so, we analyse the Decision tree further using confusion matrix. Confusion matrix helps to understand whether individual instances are predicted correctly or not. In our case, we can observe that glass type 1 has been predicted almost correctly for all instnces of type 1 except 5 instances. For glass type 1, 23 out of 27 were predicted correctly where as 2 has been misclasssified as glass type 2 and 2 has been misclassified as glass type 3. It is interesting to see that glass type 3 i.e. vehicle_windows_float_processed has not been classified properly. Almost all of them has been misclassified."
   ]
  },
  {
   "cell_type": "code",
   "execution_count": 20,
   "metadata": {},
   "outputs": [
    {
     "name": "stdout",
     "output_type": "stream",
     "text": [
      "Confusion Matrix:\n",
      " [[23  3  2  0  0  0]\n",
      " [ 3 26  1  0  0  0]\n",
      " [ 4  1  2  0  0  0]\n",
      " [ 0  1  0  4  0  0]\n",
      " [ 1  1  0  0  2  0]\n",
      " [ 1  1  0  0  0 10]]\n"
     ]
    },
    {
     "data": {
      "image/png": "[encoded data removed]",
      "text/plain": [
       "<Figure size 1000x700 with 2 Axes>"
      ]
     },
     "metadata": {},
     "output_type": "display_data"
    }
   ],
   "source": [
    "grid_search = GridSearchCV(estimator=dtc, param_grid=dtc_param_grid, cv=inner_cv, n_jobs=5, scoring='accuracy')\n",
    "\n",
    "grid_search.fit(X_train, y_train)\n",
    "\n",
    "best_dtc = grid_search.best_estimator_\n",
    "\n",
    "y_pred = best_dtc.predict(X_test)\n",
    "\n",
    "conf_matrix = confusion_matrix(y_test, y_pred)\n",
    "print(\"Confusion Matrix:\\n\", conf_matrix)\n",
    "\n",
    "plt.figure(figsize=(10, 7))\n",
    "sns.heatmap(conf_matrix, annot=True, fmt='d', cmap='Blues', xticklabels=np.unique(y), yticklabels=np.unique(y))\n",
    "plt.xlabel('Predicted Label')\n",
    "plt.ylabel('True Label')\n",
    "plt.title('Confusion Matrix for Glass Identification')\n",
    "plt.show()"
   ]
  },
  {
   "cell_type": "markdown",
   "metadata": {},
   "source": [
    "## Feature Importance According To Decision Tree Classifier\n",
    "Feature Importance helps to understand the influential factor that each features in dataset has to predict. In Decision Tree Classifier, Aluminum has the most influence to predict where as Magnesium, Refractive Index, Calcium, Potassium, and Barium has moderate influences."
   ]
  },
  {
   "cell_type": "code",
   "execution_count": 21,
   "metadata": {},
   "outputs": [
    {
     "data": {
      "image/png": "[encoded data removed]",
      "text/plain": [
       "<Figure size 1200x600 with 1 Axes>"
      ]
     },
     "metadata": {},
     "output_type": "display_data"
    }
   ],
   "source": [
    "perm_importance = permutation_importance(best_dtc, X_test, y_test, n_repeats=30, random_state=1)\n",
    "\n",
    "feature_importances = perm_importance.importances_mean\n",
    "feature_names = X.columns\n",
    "\n",
    "plt.figure(figsize=(12, 6))\n",
    "sns.barplot(x=feature_importances, y=feature_names)\n",
    "plt.xlabel('Influential Factor')\n",
    "plt.ylabel('Features')\n",
    "plt.title('Feature Importance')\n",
    "plt.show()"
   ]
  },
  {
   "cell_type": "markdown",
   "metadata": {},
   "source": [
    "## Conclusion\n",
    "In our Experiment, we set up three different model i.e. Baseline model, KNN , and Decision Tree Classifier. we initially applied these algorithms in default setting to our glass identification dataset and observe the result. Result from the initail set up, we observed that both KNN and Decision Tree Classifier outperformed the Baseline model as the accuracy of baseline model was 35% where as decision tree and KNN had 79% and 70% repectively.\n",
    "After, we conducted the nested cross validation in all models and see the outcome where they performed better or not. It was bit of surprise that after applying the search grid and tuning the parameters, we didn't see better result which was totally opposite of what we thought. In all models, KNN shows a bit of improvement if we count the standard deviation as upper accuray value could jump up to 75% which is 5% more than the default KNN had. However, considering all the performance matrix like accuracy, precision, recall and F1 score, Decision tree was slighlt better than KNN and far better than Baseline model. Mean accuray score of decision tree compare to KNN was 2% better. similarly, 5% better in mean precision score. so, we continue to explore decision tree by calculating confusion matrix. there we see that alot of instances were misclassified particularly glass type 3. Moreover, We try to see the feature imporatnce according to decision tree and found that aluminum had the most infuence among others to predict. In conclusion, we can say that Ml models are far better than baseline models and bit of surprice at the end as even both ML models could not performed very well in glass dataset."
   ]
  }
 ],
 "metadata": {
  "kernelspec": {
   "display_name": "base",
   "language": "python",
   "name": "python3"
  },
  "language_info": {
   "codemirror_mode": {
    "name": "ipython",
    "version": 3
   },
   "file_extension": ".py",
   "mimetype": "text/x-python",
   "name": "python",
   "nbconvert_exporter": "python",
   "pygments_lexer": "ipython3",
   "version": "3.11.7"
  }
 },
 "nbformat": 4,
 "nbformat_minor": 2
}
